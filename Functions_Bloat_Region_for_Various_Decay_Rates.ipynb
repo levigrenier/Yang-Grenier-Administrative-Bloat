{
 "cells": [
  {
   "cell_type": "markdown",
   "id": "f233c90f",
   "metadata": {},
   "source": [
    "# Bloat Region for Various Decay Rates"
   ]
  },
  {
   "cell_type": "code",
   "execution_count": 3,
   "id": "47c297c3",
   "metadata": {},
   "outputs": [],
   "source": [
    "import numpy as np\n",
    "import scipy as sp\n",
    "from scipy.optimize import minimize\n",
    "import pandas as pd\n",
    "from scipy.optimize import fsolve\n",
    "import matplotlib.pyplot as plt\n",
    "import matplotlib as mpl\n",
    "import matplotlib.patches as mpatches\n",
    "import matplotlib.colors as colors\n",
    "import copy\n",
    "from matplotlib.colors import LinearSegmentedColormap\n",
    "import ipynb.fs.defs.Functions_Equations_Equilibrium_Simulation as baseFuncs\n",
    "import ipynb.fs.defs.Functions_Behavioral_Stability as stabFuncs\n",
    "import ipynb.fs.defs.Functions_Equilibria_Along_Parameters as sliceFuncs"
   ]
  },
  {
   "cell_type": "code",
   "execution_count": 4,
   "id": "8cd9eb76-e317-4ec7-bf13-b43379ebaa5d",
   "metadata": {},
   "outputs": [],
   "source": [
    "def triplePlane(rd_vals, param_mesh = 10, init_mesh = 10):\n",
    "    para = baseFuncs.paraReset()\n",
    "    param_x_label = \"gamma_c\"\n",
    "    param_y_label = \"gamma_p\"\n",
    "    eps = 1e-3\n",
    "    bnds = ((0+eps, 1-eps), (1-eps, 0+eps))\n",
    "    para['r_d'] = rd_vals[0]\n",
    "    data1 = sliceFuncs.evaluatePlane(para, param_x_label, param_y_label, bnds, param_x_mesh = param_mesh, \n",
    "                          param_y_mesh = param_mesh, init_mesh = init_mesh)\n",
    "    para = baseFuncs.paraReset()\n",
    "    para['r_d'] = rd_vals[1]\n",
    "    data2 = sliceFuncs.evaluatePlane(para, param_x_label, param_y_label, bnds, param_x_mesh = param_mesh, \n",
    "                          param_y_mesh = param_mesh, init_mesh = init_mesh)\n",
    "    para = baseFuncs.paraReset()\n",
    "    para['r_d'] = rd_vals[2]\n",
    "    data3 = sliceFuncs.evaluatePlane(para, param_x_label, param_y_label, bnds, param_x_mesh = param_mesh, \n",
    "                          param_y_mesh = param_mesh, init_mesh = init_mesh)\n",
    "    return data1, data2, data3"
   ]
  },
  {
   "cell_type": "code",
   "execution_count": 1,
   "id": "71b4a661-e371-4d9e-9b63-ba4be301262a",
   "metadata": {},
   "outputs": [],
   "source": [
    "def tripleRegion(ax, df1, df2, df3, rd_vals, all_white = False, show_title = True, show_plot = True, \n",
    "                 saveFig = False, saveName = \"Receding Stability Regions.png\", fontsize = 12):\n",
    "    # Adjust data values for colormapping\n",
    "    d1 = copy.deepcopy(df1) \n",
    "    d2 = copy.deepcopy(df2) \n",
    "    d3 = copy.deepcopy(df3) \n",
    "    # The goal here is to combine the grids into one grid where the value is\n",
    "    d1['stab_grid'][(df1['stab_grid'] == 1) | (df1['stab_grid'] == 3)] = 1 #There is a stable nontrivial position, could be bloat or not.\n",
    "    d1['stab_grid'][(df1['stab_grid'] == 2)] = 0 # There is only bloat\n",
    "    d2['stab_grid'][(df2['stab_grid'] == 1) | (df2['stab_grid'] == 3)] = 1\n",
    "    d2['stab_grid'][(df2['stab_grid'] == 2)] = 0\n",
    "    d3['stab_grid'][(df3['stab_grid'] == 1) | (df3['stab_grid'] == 3)] = 1\n",
    "    d3['stab_grid'][(df3['stab_grid'] == 2)] = 0\n",
    "    stab_grid = d1['stab_grid'] + d2['stab_grid'] + d3['stab_grid']\n",
    "\n",
    "    # Coloring business\n",
    "    if all_white:\n",
    "        clist = ['#FFFFFF', '#FFFFFF', '#FFFFFF', '#FFFFFF']\n",
    "    else:\n",
    "        clist = ['#C79FEF', '#EAB676', '#EAB676', '#EAB676']\n",
    "    patch1 = mpatches.Patch(color=clist[-1], label='Both sustainable eq. & run-away bloat possible')\n",
    "    patch2 = mpatches.Patch(color=clist[0], label=r'Only run-away bloat possible')\n",
    "    handles = []\n",
    "    handles.append(patch1)\n",
    "    handles.append(patch2)\n",
    "    cmap = mpl.colors.ListedColormap(clist)\n",
    "    bounds = list(np.linspace(0, 1, 4))\n",
    "    norm = mpl.colors.BoundaryNorm(bounds, cmap.N)\n",
    "    \n",
    "    # Ploting\n",
    "    param_x_grid = df1['param_x_grid']\n",
    "    param_y_grid = df1['param_y_grid']\n",
    "    \n",
    "    cp = ax.contourf(param_x_grid, param_y_grid, stab_grid, cmap = cmap, levels = len(rd_vals))\n",
    "    cp2 = ax.contour(cp, levels=cp.levels[1:], colors='k')\n",
    "\n",
    "    fmt = {}\n",
    "    strs = [r\"$T_d = {:0.0f}$\".format(1/x) for x in rd_vals]\n",
    "    for l, s in zip(cp2.levels, strs):\n",
    "        fmt[l] = s\n",
    "    \n",
    "    ax.clabel(cp2, inline=1, fmt = fmt, fontsize=10)\n",
    "    \n",
    "    # Text, labels, and legends\n",
    "    if show_title:\n",
    "        ax.set_title(r\"Plot of Receding Stability Regions for Increasing $r_d$\")\n",
    "    ax.set_ylabel(r\"Process pruning propensity ($\\gamma_p$)\", fontsize = fontsize)\n",
    "    ax.set_xlabel(r\"Process creation propensity ($\\gamma_c$)\", fontsize = fontsize)\n",
    "    if not all_white:\n",
    "        ax.legend(handles=handles, frameon = False, loc = 'upper left', bbox_to_anchor=(0.05, -0.135), fontsize = fontsize)\n",
    "\n",
    "    # SaveFig\n",
    "    if show_plot:\n",
    "        if saveFig:\n",
    "            fig.savefig(saveName, dpi = 700, bbox_inches = 'tight')\n",
    "        else:\n",
    "            plt.show()"
   ]
  }
 ],
 "metadata": {
  "kernelspec": {
   "display_name": "Python 3 (ipykernel)",
   "language": "python",
   "name": "python3"
  },
  "language_info": {
   "codemirror_mode": {
    "name": "ipython",
    "version": 3
   },
   "file_extension": ".py",
   "mimetype": "text/x-python",
   "name": "python",
   "nbconvert_exporter": "python",
   "pygments_lexer": "ipython3",
   "version": "3.11.5"
  }
 },
 "nbformat": 4,
 "nbformat_minor": 5
}
