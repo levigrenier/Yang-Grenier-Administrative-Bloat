{
 "cells": [
  {
   "cell_type": "markdown",
   "id": "f233c90f",
   "metadata": {},
   "source": [
    "# Environmental Shock"
   ]
  },
  {
   "cell_type": "code",
   "execution_count": 8,
   "id": "47c297c3",
   "metadata": {},
   "outputs": [],
   "source": [
    "import numpy as np\n",
    "import scipy as sp\n",
    "from scipy.optimize import minimize\n",
    "import pandas as pd\n",
    "from scipy.optimize import fsolve\n",
    "import copy \n",
    "import ipynb.fs.defs.Functions_Equations_Equilibrium_Simulation as baseFuncs"
   ]
  },
  {
   "cell_type": "code",
   "execution_count": 2,
   "id": "7a4bb5ce-467f-4771-80c3-cf02be1492c7",
   "metadata": {},
   "outputs": [],
   "source": [
    "def simulate_behavioral_shock(base_para, shock_para, T = 100, shock_times = [10, 20], process_removal_proportion = None, start_from = None):\n",
    "    # Start from equilibrium\n",
    "    para = base_para\n",
    "    if start_from is None:   \n",
    "        res, _, _, _ = baseFuncs.equilFuncBehavioral(para)\n",
    "        para['init_R_u'] = res[0]\n",
    "        para['init_R_o'] = res[1]\n",
    "    else:\n",
    "        para['init_R_u'] = start_from[0]\n",
    "        para['init_R_o'] = start_from[1]\n",
    "    \n",
    "    # Simulate before, during, and after shock    \n",
    "    R_us1, R_os1, w_As1, w_Ds1, Us1, discUs1, timesteps1 = baseFuncs.simulate(para, tau = shock_times[0], T = shock_times[0], generalAlloc = False)\n",
    "    para = shock_para\n",
    "    if process_removal_proportion is not None:\n",
    "        para['init_R_u'] = R_us1[-1]*(1-process_removal_proportion)\n",
    "        para['init_R_o'] = R_os1[-1]*(1-process_removal_proportion)\n",
    "    else:\n",
    "        para['init_R_u'] = R_us1[-1]\n",
    "        para['init_R_o'] = R_os1[-1]\n",
    "\n",
    "    \n",
    "    if shock_times[1] is not None:\n",
    "        R_us2, R_os2, w_As2, w_Ds2, Us2, discUs2, timesteps2 = baseFuncs.simulate(para, tau = shock_times[1]-shock_times[0], T = shock_times[1]-shock_times[0], generalAlloc = False)\n",
    "        para = base_para\n",
    "        para['init_R_u'] = R_us2[-1]\n",
    "        para['init_R_o'] = R_os2[-1]\n",
    "        R_us3, R_os3, w_As3, w_Ds3, Us3, discUs3, timesteps3 = baseFuncs.simulate(para, tau = T-shock_times[1], T = T-shock_times[1], generalAlloc = False)\n",
    "        \n",
    "        # Merge all results\n",
    "        R_us = R_us1 + R_us2 + R_us3\n",
    "        R_os = R_os1 + R_os2 + R_os3\n",
    "        w_As = w_As1 + w_As2 + w_As3\n",
    "        w_Ds = w_Ds1 + w_Ds2 + w_Ds3\n",
    "        Us = Us1 + Us2 + Us3\n",
    "        discUs = discUs1 + discUs2 + discUs3\n",
    "        timesteps = timesteps1 + list(np.asarray(timesteps2)+shock_times[0]) + list(np.asarray(timesteps3)+shock_times[1])\n",
    "        rds = list(np.ones(len(R_us1))*base_para['r_d']) + list(np.ones(len(R_us2))*shock_para['r_d']) + list(np.ones(len(R_us3))*base_para['r_d'])\n",
    "    else:\n",
    "        R_us2, R_os2, w_As2, w_Ds2, Us2, discUs2, timesteps2 = baseFuncs.simulate(para, tau = T-shock_times[0], T = T-shock_times[0], generalAlloc = False)\n",
    "        R_us = R_us1 + R_us2\n",
    "        R_os = R_os1 + R_os2\n",
    "        w_As = w_As1 + w_As2\n",
    "        w_Ds = w_Ds1 + w_Ds2\n",
    "        Us = Us1 + Us2\n",
    "        discUs = discUs1 + discUs2\n",
    "        timesteps = timesteps1 + list(np.asarray(timesteps2)+shock_times[0])\n",
    "        rds = list(np.ones(len(R_us1))*base_para['r_d']) + list(np.ones(len(R_us2))*shock_para['r_d'])\n",
    "\n",
    "    return R_us, R_os, w_As, w_Ds, Us, discUs, timesteps, rds"
   ]
  }
 ],
 "metadata": {
  "kernelspec": {
   "display_name": "Python 3 (ipykernel)",
   "language": "python",
   "name": "python3"
  },
  "language_info": {
   "codemirror_mode": {
    "name": "ipython",
    "version": 3
   },
   "file_extension": ".py",
   "mimetype": "text/x-python",
   "name": "python",
   "nbconvert_exporter": "python",
   "pygments_lexer": "ipython3",
   "version": "3.11.5"
  }
 },
 "nbformat": 4,
 "nbformat_minor": 5
}
